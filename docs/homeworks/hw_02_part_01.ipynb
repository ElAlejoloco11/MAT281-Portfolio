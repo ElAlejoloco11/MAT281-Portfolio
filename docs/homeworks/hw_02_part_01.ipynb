{
 "cells": [
  {
   "cell_type": "markdown",
   "metadata": {},
   "source": [
    "<a href=\"https://colab.research.google.com/github/fralfaro/MAT281_2024/blob/main/docs/homeworks/hw_02.ipynb\" target=\"_parent\"><img src=\"https://colab.research.google.com/assets/colab-badge.svg\" alt=\"Open In Colab\"/></a>\n",
    "\n",
    "\n",
    "\n",
    "# MAT281 - Tarea N°02\n",
    "\n",
    "\n",
    "## Instrucciones\n",
    "\n",
    "1.- Completa tus datos personales (nombre y rol USM) en siguiente celda.\n",
    "\n",
    "\n",
    "* __Nombre__: Alejandro Salas\n",
    "\n",
    "* __Rol__: 202010504-9\n",
    "\n",
    "2.- Debes _subir_ este archivo con tus cambios a tu repositorio personal del curso, incluyendo datos, imágenes, scripts, etc.\n",
    "\n",
    "3.- Se evaluará:\n",
    "   - Soluciones\n",
    "   - Código\n",
    "   - Al presionar  `Kernel -> Restart Kernel and Run All Cells` deben ejecutarse todas las celdas sin error.\n",
    "   \n",
    "4.- Esta Tarea debe ser entregada en **Dos Jupyter Notebooks Distinto**.\n",
    "   * **Ejemplo**: `hw_02_part_01.ipynb`, `hw_02_part_02.ipynb`."
   ]
  },
  {
   "cell_type": "markdown",
   "metadata": {
    "Collapsed": "false"
   },
   "source": [
    "## I.- LearnPlatform\n",
    "\n",
    "<img src=\"https://images.squarespace-cdn.com/content/v1/5cb36dc993a63270cfacbc2b/338586d4-5b1e-4b48-b2b2-408b8dd0f1a3/LearnPlatform+logo.png\" width = \"400\" align=\"center\"/>\n"
   ]
  },
  {
   "cell_type": "markdown",
   "metadata": {},
   "source": [
    "### Introducción\n",
    "\n",
    "Nelson Mandela creía que la educación era el arma más poderosa para cambiar el mundo. Pero no todos los estudiantes tienen las mismas oportunidades de aprender. Es necesario promulgar políticas y planes efectivos para que la educación sea más equitativa, y tal vez su innovador análisis de datos ayude a revelar la solución.\n",
    "\n",
    "La investigación actual muestra que los resultados educativos están lejos de ser equitativos. El desequilibrio se vio agravado por la pandemia de COVID-19. Existe una necesidad urgente de comprender y medir mejor el alcance y el impacto de la pandemia en estas inequidades.\n",
    "\n",
    "La empresa de tecnología educativa LearnPlatform se fundó en 2014 con la misión de ampliar el acceso equitativo a la tecnología educativa para todos los estudiantes y profesores. Los distritos y estados utilizan el sistema integral de efectividad de la tecnología educativa de LearnPlatform para mejorar continuamente la seguridad, la equidad y la efectividad de su tecnología educativa. LearnPlatform lo hace generando una base de evidencia de lo que está funcionando y promulgándola en beneficio de los estudiantes, los profesores y los presupuestos.\n",
    "\n",
    "En esta competencia de análisis, trabajará para descubrir tendencias en el aprendizaje digital. Logre esto con un análisis de datos sobre cómo el compromiso con el aprendizaje digital se relaciona con factores como la demografía del distrito, el acceso a la banda ancha y las políticas y eventos a nivel estatal / nacional. Luego, envíe un notebook de Kaggle para proponer su mejor solución a estas desigualdades educativas.\n",
    "\n",
    "Sus presentaciones informarán las políticas y prácticas que cierran la brecha digital. Con una mejor comprensión de las tendencias de aprendizaje digital, puede ayudar a revertir la pérdida de aprendizaje a largo plazo entre los más vulnerables de Estados Unidos, haciendo que la educación sea más equitativa.\n",
    "\n",
    "### Planteamiento del problema\n",
    "La pandemia COVID-19 ha interrumpido el aprendizaje de más de 56 millones de estudiantes en los Estados Unidos. En la primavera de 2020, la mayoría de los gobiernos estatales y locales de los EE. UU. Cerraron las instituciones educativas para detener la propagación del virus. En respuesta, las escuelas y los maestros han intentado llegar a los estudiantes de forma remota a través de herramientas de aprendizaje a distancia y plataformas digitales. Hasta el día de hoy, las preocupaciones sobre la exacerbación de la brecha digital y la pérdida de aprendizaje a largo plazo entre los estudiantes más vulnerables de Estados Unidos continúan creciendo.\n",
    "\n",
    "### Desafío\n",
    "Los estudiantes deben explorar (1) el estado del aprendizaje digital en 2020 y (2) cómo la participación del aprendizaje digital se relaciona con factores como la demografía del distrito, el acceso a banda ancha y las políticas y eventos a nivel estatal/nacional.\n",
    "\n",
    "Le recomendamos que oriente el análisis con preguntas relacionadas con los temas descritos anteriormente (en negrita). A continuación se muestran algunos ejemplos de preguntas que se relacionan con el planteamiento de nuestro problema:\n",
    "\n",
    "* ¿Cuál es el panorama de la conectividad y el compromiso digitales en 2020?\n",
    "* ¿Cuál es el efecto de la pandemia de COVID-19 en el aprendizaje en línea y a distancia, y cómo podría evolucionar también en el futuro?\n",
    "* ¿Cómo cambia la participación de los estudiantes con los diferentes tipos de tecnología educativa durante el transcurso de la pandemia?\n",
    "* ¿Cómo se relaciona la participación de los estudiantes con las plataformas de aprendizaje en línea con las diferentes geografías? ¿Contexto demográfico (por ejemplo, raza/etnia, ESL, discapacidad de aprendizaje)? Contexto de aprendizaje? ¿Estatus socioeconómico?\n",
    "* ¿Se correlacionan ciertas intervenciones, prácticas o políticas estatales (por ejemplo, estímulo, reapertura, moratoria de desalojo) con el aumento o la disminución de la participación en línea?\n",
    "\n",
    "### Evaluación\n",
    "\n",
    "\n",
    "#### Claridad \n",
    "\n",
    "* ¿El autor presentó un hilo claro de preguntas o temas que motivaron su análisis?\n",
    "* ¿El autor documentó por qué/cómo se eligió y utilizó un conjunto de métodos para su análisis?\n",
    "* ¿Está documentado el notebook de una manera que sea fácilmente reproducible (p. Ej., Código, fuentes de datos adicionales, citas)?\n",
    "* ¿El notebook contiene visualizaciones de datos claras que ayuden a comunicar de manera eficaz los hallazgos del autor tanto a expertos como a no expertos?\n",
    "\n",
    "#### Precisión \n",
    "\n",
    "* ¿El autor procesó los datos (por ejemplo, fusionando) y/o fuentes de datos adicionales con precisión?\n",
    "* ¿La metodología utilizada en el análisis es apropiada y razonable?\n",
    "* ¿Son razonables y convincentes las interpretaciones basadas en el análisis y la visualización?\n",
    "\n",
    "#### Creatividad \n",
    "\n",
    "* ¿El notebook ayuda al lector a aprender algo nuevo o lo desafía a pensar de una manera nueva?\n",
    "* ¿El notebook aprovecha métodos novedosos y/o visualizaciones que ayudan a revelar información a partir de datos y/o comunicar hallazgos?\n",
    "* ¿El autor utilizó fuentes de datos públicas adicionales en su análisis?"
   ]
  },
  {
   "cell_type": "markdown",
   "metadata": {},
   "source": [
    "### Hints\n",
    "\n",
    "* Esto corresponde a un desafio de Kaggle ([link](https://www.kaggle.com/c/learnplatform-covid19-impact-on-digital-learning/overview/description)).\n",
    "*  La información respecto a los datos, lo pueden encontrar en el siguiente [link](https://www.kaggle.com/c/learnplatform-covid19-impact-on-digital-learning/data).\n",
    "* A modo de inspiración, pueden ocupar algunos gráficos de otros participantes del desafío ([link](https://www.kaggle.com/c/learnplatform-covid19-impact-on-digital-learning/code))."
   ]
  },
  {
   "cell_type": "code",
   "execution_count": 17,
   "metadata": {},
   "outputs": [],
   "source": [
    "#Importar librerias\n",
    "import pandas as pd\n",
    "import matplotlib.pyplot as plt\n",
    "import numpy as np\n",
    "import seaborn as sns\n",
    "import os"
   ]
  },
  {
   "cell_type": "markdown",
   "metadata": {},
   "source": [
    "## Motivación\n",
    "En este notebook se estudia el estado del aprendizaje remoto en Estados Unidos en el contexto de la pandemia, en particular durante el año 2020. Para esto se plantearon las siguientes preguntas principales:\n",
    "- ¿Cuál es el efecto de la pandemia de COVID-19 en el aprendizaje en línea y a distancia, y cómo podría evolucionar también en el futuro?\n",
    "- ¿Cómo cambia la participación de los estudiantes con los diferentes tipos de tecnología educativa durante el transcurso de la pandemia?\n",
    "- ¿Como se relaciona la participación en el aprendizaje en linea con el contexto socioeconómico y demográfico?"
   ]
  },
  {
   "cell_type": "markdown",
   "metadata": {},
   "source": [
    "### Integridad de datos\n",
    "Primero chequearemos la integridad de los datos obtenidos."
   ]
  },
  {
   "cell_type": "code",
   "execution_count": 27,
   "metadata": {},
   "outputs": [],
   "source": [
    "#Primero, extraeremos los datos.\n",
    "df_prod = pd.read_csv('learnplatform-covid19-impact-on-digital-learning/products_info.csv')\n",
    "df_districts = pd.read_csv('learnplatform-covid19-impact-on-digital-learning/districts_info.csv')\n",
    "distritos=[]\n",
    "carpeta = 'learnplatform-covid19-impact-on-digital-learning/engagement_data'\n",
    "for archivo in os.listdir(carpeta):\n",
    "    if archivo.endswith('.csv'):\n",
    "        ruta_archivo = os.path.join(carpeta, archivo)\n",
    "        df = pd.read_csv(ruta_archivo)\n",
    "        distritos.append(df)"
   ]
  },
  {
   "cell_type": "markdown",
   "metadata": {},
   "source": [
    "Ahora veamos la integridad de los datos"
   ]
  },
  {
   "cell_type": "code",
   "execution_count": 28,
   "metadata": {},
   "outputs": [
    {
     "data": {
      "text/plain": [
       "LP ID                         0.000000\n",
       "URL                           0.000000\n",
       "Product Name                  0.000000\n",
       "Provider/Company Name         0.268817\n",
       "Sector(s)                     5.376344\n",
       "Primary Essential Function    5.376344\n",
       "dtype: float64"
      ]
     },
     "execution_count": 28,
     "metadata": {},
     "output_type": "execute_result"
    }
   ],
   "source": [
    "(df_prod.isnull().sum()/df_prod.shape[0])*100"
   ]
  },
  {
   "cell_type": "markdown",
   "metadata": {},
   "source": [
    "Es alrededor del 5% de los datos nulos, dropeamos los nulos"
   ]
  },
  {
   "cell_type": "code",
   "execution_count": 20,
   "metadata": {},
   "outputs": [
    {
     "data": {
      "text/plain": [
       "LP ID                         0\n",
       "URL                           0\n",
       "Product Name                  0\n",
       "Provider/Company Name         0\n",
       "Sector(s)                     0\n",
       "Primary Essential Function    0\n",
       "dtype: int64"
      ]
     },
     "execution_count": 20,
     "metadata": {},
     "output_type": "execute_result"
    }
   ],
   "source": [
    "df_prod.dropna(inplace=True)\n",
    "df_prod.isnull().sum()"
   ]
  },
  {
   "cell_type": "code",
   "execution_count": 29,
   "metadata": {},
   "outputs": [
    {
     "data": {
      "text/plain": [
       "np.int64(0)"
      ]
     },
     "execution_count": 29,
     "metadata": {},
     "output_type": "execute_result"
    }
   ],
   "source": [
    "df_prod.duplicated().sum()"
   ]
  },
  {
   "cell_type": "markdown",
   "metadata": {},
   "source": [
    "Veamos df_districs"
   ]
  },
  {
   "cell_type": "code",
   "execution_count": 31,
   "metadata": {},
   "outputs": [
    {
     "data": {
      "text/plain": [
       "district_id                  0.000000\n",
       "state                       24.463519\n",
       "locale                      24.463519\n",
       "pct_black/hispanic          24.463519\n",
       "pct_free/reduced            36.480687\n",
       "county_connections_ratio    30.472103\n",
       "pp_total_raw                49.356223\n",
       "dtype: float64"
      ]
     },
     "execution_count": 31,
     "metadata": {},
     "output_type": "execute_result"
    }
   ],
   "source": [
    "df_districts.isnull().sum()/df_districts.shape[0] *100"
   ]
  },
  {
   "cell_type": "markdown",
   "metadata": {},
   "source": [
    "Faltan muchos datos, eliminaremos los nulos del dataframe que sean nulos en todas las columnas, ya que son irrecuperables"
   ]
  },
  {
   "cell_type": "code",
   "execution_count": 34,
   "metadata": {},
   "outputs": [
    {
     "data": {
      "text/html": [
       "<div>\n",
       "<style scoped>\n",
       "    .dataframe tbody tr th:only-of-type {\n",
       "        vertical-align: middle;\n",
       "    }\n",
       "\n",
       "    .dataframe tbody tr th {\n",
       "        vertical-align: top;\n",
       "    }\n",
       "\n",
       "    .dataframe thead th {\n",
       "        text-align: right;\n",
       "    }\n",
       "</style>\n",
       "<table border=\"1\" class=\"dataframe\">\n",
       "  <thead>\n",
       "    <tr style=\"text-align: right;\">\n",
       "      <th></th>\n",
       "      <th>district_id</th>\n",
       "      <th>state</th>\n",
       "      <th>locale</th>\n",
       "      <th>pct_black/hispanic</th>\n",
       "      <th>pct_free/reduced</th>\n",
       "      <th>county_connections_ratio</th>\n",
       "      <th>pp_total_raw</th>\n",
       "    </tr>\n",
       "  </thead>\n",
       "  <tbody>\n",
       "    <tr>\n",
       "      <th>0</th>\n",
       "      <td>8815</td>\n",
       "      <td>Illinois</td>\n",
       "      <td>Suburb</td>\n",
       "      <td>[0, 0.2[</td>\n",
       "      <td>[0, 0.2[</td>\n",
       "      <td>[0.18, 1[</td>\n",
       "      <td>[14000, 16000[</td>\n",
       "    </tr>\n",
       "    <tr>\n",
       "      <th>2</th>\n",
       "      <td>4921</td>\n",
       "      <td>Utah</td>\n",
       "      <td>Suburb</td>\n",
       "      <td>[0, 0.2[</td>\n",
       "      <td>[0.2, 0.4[</td>\n",
       "      <td>[0.18, 1[</td>\n",
       "      <td>[6000, 8000[</td>\n",
       "    </tr>\n",
       "    <tr>\n",
       "      <th>5</th>\n",
       "      <td>5987</td>\n",
       "      <td>Wisconsin</td>\n",
       "      <td>Suburb</td>\n",
       "      <td>[0, 0.2[</td>\n",
       "      <td>[0, 0.2[</td>\n",
       "      <td>[0.18, 1[</td>\n",
       "      <td>[10000, 12000[</td>\n",
       "    </tr>\n",
       "    <tr>\n",
       "      <th>6</th>\n",
       "      <td>3710</td>\n",
       "      <td>Utah</td>\n",
       "      <td>Suburb</td>\n",
       "      <td>[0, 0.2[</td>\n",
       "      <td>[0.4, 0.6[</td>\n",
       "      <td>[0.18, 1[</td>\n",
       "      <td>[6000, 8000[</td>\n",
       "    </tr>\n",
       "    <tr>\n",
       "      <th>7</th>\n",
       "      <td>7177</td>\n",
       "      <td>North Carolina</td>\n",
       "      <td>Suburb</td>\n",
       "      <td>[0.2, 0.4[</td>\n",
       "      <td>[0.2, 0.4[</td>\n",
       "      <td>[0.18, 1[</td>\n",
       "      <td>[8000, 10000[</td>\n",
       "    </tr>\n",
       "    <tr>\n",
       "      <th>8</th>\n",
       "      <td>9812</td>\n",
       "      <td>Utah</td>\n",
       "      <td>Suburb</td>\n",
       "      <td>[0, 0.2[</td>\n",
       "      <td>[0.2, 0.4[</td>\n",
       "      <td>[0.18, 1[</td>\n",
       "      <td>[6000, 8000[</td>\n",
       "    </tr>\n",
       "    <tr>\n",
       "      <th>9</th>\n",
       "      <td>6584</td>\n",
       "      <td>North Carolina</td>\n",
       "      <td>Rural</td>\n",
       "      <td>[0.4, 0.6[</td>\n",
       "      <td>[0.6, 0.8[</td>\n",
       "      <td>[0.18, 1[</td>\n",
       "      <td>[8000, 10000[</td>\n",
       "    </tr>\n",
       "    <tr>\n",
       "      <th>10</th>\n",
       "      <td>1044</td>\n",
       "      <td>Missouri</td>\n",
       "      <td>Suburb</td>\n",
       "      <td>[0, 0.2[</td>\n",
       "      <td>[0, 0.2[</td>\n",
       "      <td>NaN</td>\n",
       "      <td>[10000, 12000[</td>\n",
       "    </tr>\n",
       "    <tr>\n",
       "      <th>11</th>\n",
       "      <td>7457</td>\n",
       "      <td>Washington</td>\n",
       "      <td>City</td>\n",
       "      <td>[0.4, 0.6[</td>\n",
       "      <td>[0.4, 0.6[</td>\n",
       "      <td>[0.18, 1[</td>\n",
       "      <td>[12000, 14000[</td>\n",
       "    </tr>\n",
       "    <tr>\n",
       "      <th>12</th>\n",
       "      <td>1904</td>\n",
       "      <td>Connecticut</td>\n",
       "      <td>Rural</td>\n",
       "      <td>[0, 0.2[</td>\n",
       "      <td>[0, 0.2[</td>\n",
       "      <td>[0.18, 1[</td>\n",
       "      <td>NaN</td>\n",
       "    </tr>\n",
       "  </tbody>\n",
       "</table>\n",
       "</div>"
      ],
      "text/plain": [
       "    district_id           state  locale pct_black/hispanic pct_free/reduced  \\\n",
       "0          8815        Illinois  Suburb           [0, 0.2[         [0, 0.2[   \n",
       "2          4921            Utah  Suburb           [0, 0.2[       [0.2, 0.4[   \n",
       "5          5987       Wisconsin  Suburb           [0, 0.2[         [0, 0.2[   \n",
       "6          3710            Utah  Suburb           [0, 0.2[       [0.4, 0.6[   \n",
       "7          7177  North Carolina  Suburb         [0.2, 0.4[       [0.2, 0.4[   \n",
       "8          9812            Utah  Suburb           [0, 0.2[       [0.2, 0.4[   \n",
       "9          6584  North Carolina   Rural         [0.4, 0.6[       [0.6, 0.8[   \n",
       "10         1044        Missouri  Suburb           [0, 0.2[         [0, 0.2[   \n",
       "11         7457      Washington    City         [0.4, 0.6[       [0.4, 0.6[   \n",
       "12         1904     Connecticut   Rural           [0, 0.2[         [0, 0.2[   \n",
       "\n",
       "   county_connections_ratio    pp_total_raw  \n",
       "0                 [0.18, 1[  [14000, 16000[  \n",
       "2                 [0.18, 1[    [6000, 8000[  \n",
       "5                 [0.18, 1[  [10000, 12000[  \n",
       "6                 [0.18, 1[    [6000, 8000[  \n",
       "7                 [0.18, 1[   [8000, 10000[  \n",
       "8                 [0.18, 1[    [6000, 8000[  \n",
       "9                 [0.18, 1[   [8000, 10000[  \n",
       "10                      NaN  [10000, 12000[  \n",
       "11                [0.18, 1[  [12000, 14000[  \n",
       "12                [0.18, 1[             NaN  "
      ]
     },
     "execution_count": 34,
     "metadata": {},
     "output_type": "execute_result"
    }
   ],
   "source": [
    "df_districts.dropna(subset=['state'], how = 'all', inplace=True)\n",
    "df_districts.head(10)"
   ]
  },
  {
   "cell_type": "code",
   "execution_count": 35,
   "metadata": {},
   "outputs": [
    {
     "name": "stdout",
     "output_type": "stream",
     "text": [
      "district_id                  0\n",
      "state                        0\n",
      "locale                       0\n",
      "pct_black/hispanic           0\n",
      "pct_free/reduced            28\n",
      "county_connections_ratio    14\n",
      "pp_total_raw                58\n",
      "dtype: int64\n"
     ]
    }
   ],
   "source": [
    "print(df_districts.isnull().sum())"
   ]
  },
  {
   "cell_type": "code",
   "execution_count": 36,
   "metadata": {},
   "outputs": [
    {
     "data": {
      "text/plain": [
       "np.int64(0)"
      ]
     },
     "execution_count": 36,
     "metadata": {},
     "output_type": "execute_result"
    }
   ],
   "source": [
    "df_districts.duplicated().sum()"
   ]
  },
  {
   "cell_type": "markdown",
   "metadata": {},
   "source": [
    "Ahora veamos la distribución de los tipos de localidad."
   ]
  },
  {
   "cell_type": "code",
   "execution_count": 37,
   "metadata": {},
   "outputs": [
    {
     "data": {
      "image/png": "[encoded data removed]",
      "text/plain": [
       "<Figure size 600x600 with 1 Axes>"
      ]
     },
     "metadata": {},
     "output_type": "display_data"
    }
   ],
   "source": [
    "df_districts['locale'].value_counts().plot.pie(\n",
    "    autopct='%1.1f%%',\n",
    "    startangle=90,         \n",
    "    figsize=(6, 6)   )\n",
    "plt.title('Localidades')\n",
    "plt.ylabel('')\n",
    "plt.show()"
   ]
  },
  {
   "cell_type": "markdown",
   "metadata": {},
   "source": [
    "Notemos que los distritos son suburbios en su mayoría."
   ]
  },
  {
   "cell_type": "code",
   "execution_count": null,
   "metadata": {},
   "outputs": [],
   "source": []
  }
 ],
 "metadata": {
  "kernelspec": {
   "display_name": "Python 3",
   "language": "python",
   "name": "python3"
  },
  "language_info": {
   "codemirror_mode": {
    "name": "ipython",
    "version": 3
   },
   "file_extension": ".py",
   "mimetype": "text/x-python",
   "name": "python",
   "nbconvert_exporter": "python",
   "pygments_lexer": "ipython3",
   "version": "3.12.5"
  }
 },
 "nbformat": 4,
 "nbformat_minor": 4
}
